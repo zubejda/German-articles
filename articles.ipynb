{
  "nbformat": 4,
  "nbformat_minor": 0,
  "metadata": {
    "colab": {
      "private_outputs": true,
      "provenance": [],
      "authorship_tag": "ABX9TyMBNt3wKRFj9Eab8cDDy0T5",
      "include_colab_link": true
    },
    "kernelspec": {
      "name": "python3",
      "display_name": "Python 3"
    },
    "language_info": {
      "name": "python"
    }
  },
  "cells": [
    {
      "cell_type": "markdown",
      "metadata": {
        "id": "view-in-github",
        "colab_type": "text"
      },
      "source": [
        "<a href=\"https://colab.research.google.com/github/zubejda/German-articles/blob/main/articles.ipynb\" target=\"_parent\"><img src=\"https://colab.research.google.com/assets/colab-badge.svg\" alt=\"Open In Colab\"/></a>"
      ]
    },
    {
      "cell_type": "code",
      "source": [
        "import re\n",
        "import requests\n",
        "from bs4 import BeautifulSoup"
      ],
      "metadata": {
        "id": "nLngR-sO4Kyn"
      },
      "execution_count": null,
      "outputs": []
    },
    {
      "cell_type": "code",
      "source": [
        "def get_german_article(word):\n",
        "    url = f\"https://de.wiktionary.org/wiki/{word}\"\n",
        "    response = requests.get(url)\n",
        "\n",
        "    if response.status_code == 200:\n",
        "        soup = BeautifulSoup(response.text, 'html.parser')\n",
        "        word_class = soup.h3.a.string\n",
        "        if \"Substantiv\" not in word_class:\n",
        "            return None\n",
        "        try:\n",
        "            article = soup.find('table', class_='wikitable').find(\"td\").string\n",
        "            return article\n",
        "        except:\n",
        "            return None\n",
        "    return None"
      ],
      "metadata": {
        "id": "e4mnQhVnBXVl"
      },
      "execution_count": null,
      "outputs": []
    },
    {
      "cell_type": "code",
      "source": [
        "def read_file(filepath):\n",
        "    with open(filepath, \"r\", encoding=\"iso-8859-1\") as fr:\n",
        "        lines = fr.readlines()\n",
        "    return lines\n",
        "\n",
        "def find_articles(lines):\n",
        "    pattern_to_remove = r'[^a-zA-ZäöüÄÖÜß\\s]'\n",
        "    all_words = []\n",
        "    for l in lines:\n",
        "        modified_string = re.sub(pattern_to_remove, '', l)\n",
        "        modified_string = re.split(r'\\s+', modified_string)\n",
        "        modified_string = [item for item in modified_string if len(item) != 0]\n",
        "\n",
        "        german = \" \".join(modified_string[:-1])\n",
        "        english = modified_string[-1] + \"\\n\"\n",
        "        with_article = get_german_article(german)\n",
        "        if with_article is None:\n",
        "            all_words.append(german + \" - \" + english)\n",
        "            continue\n",
        "        all_words.append(with_article[:-1] + \" - \" + english)\n",
        "    return all_words\n",
        "\n",
        "def write_file(filepath, lines):\n",
        "    with open(filepath, 'w') as fw:\n",
        "        for l in lines:\n",
        "            fw.write(l)"
      ],
      "metadata": {
        "id": "FyGYKyQlwJal"
      },
      "execution_count": null,
      "outputs": []
    },
    {
      "cell_type": "code",
      "source": [
        "input_file = \"path to the file with german words\"\n",
        "output_file = \"path to the file for saving\"\n",
        "\n",
        "lines = read_file(input_file)\n",
        "article_lines = find_articles(lines)\n",
        "write_file(output_file, article_lines)"
      ],
      "metadata": {
        "id": "cHEH7QY2zK24"
      },
      "execution_count": null,
      "outputs": []
    }
  ]
}